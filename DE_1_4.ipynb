{
  "nbformat": 4,
  "nbformat_minor": 0,
  "metadata": {
    "colab": {
      "provenance": [],
      "authorship_tag": "ABX9TyOu3mqn4sZ36qwC0e6YT8uA",
      "include_colab_link": true
    },
    "kernelspec": {
      "name": "python3",
      "display_name": "Python 3"
    },
    "language_info": {
      "name": "python"
    }
  },
  "cells": [
    {
      "cell_type": "markdown",
      "metadata": {
        "id": "view-in-github",
        "colab_type": "text"
      },
      "source": [
        "<a href=\"https://colab.research.google.com/github/alxv66/DE_Sprint/blob/main/DE_1_4.ipynb\" target=\"_parent\"><img src=\"https://colab.research.google.com/assets/colab-badge.svg\" alt=\"Open In Colab\"/></a>"
      ]
    },
    {
      "cell_type": "markdown",
      "source": [
        "# Библиотеки"
      ],
      "metadata": {
        "id": "EuIGSL4GOQ6x"
      }
    },
    {
      "cell_type": "code",
      "execution_count": 455,
      "metadata": {
        "id": "MCmyo7Oqb1ap"
      },
      "outputs": [],
      "source": [
        "import numpy as np\n",
        "import matplotlib.pyplot as plt"
      ]
    },
    {
      "cell_type": "markdown",
      "source": [
        "# 1.4.1. Построение распределений\n",
        "\n",
        "Сгенерировать выборку с распределением Рэлэя ( https://ru.wikipedia.org/wiki/Распределение_Рэлея ) используя numpy и scipy и построить на основе ее кривую плотности распределения на основе гистограммы из Matplotlib."
      ],
      "metadata": {
        "id": "KZF2fLKL-_na"
      }
    },
    {
      "cell_type": "code",
      "source": [
        "q = 1\n",
        "\n",
        "rayleigh_arr = np.random.rayleigh(q, 2000)\n",
        "theory_arr = np.arange(0, max(rayleigh_arr), 0.001)\n",
        "label_r = f\"np.random.rayleigh({q}, 200)\"\n",
        "label_t = f\"(x/q**2) * np.exp(-x**2/(2*q**2)), q = {q}\"\n",
        "\n",
        "plt.figure(figsize=(10, 5))\n",
        "plt.title(\"Плотность распределения Рэлэя\")\n",
        "plt.hist(rayleigh_arr, 50, label=label_r, density=True)\n",
        "plt.plot(theory_arr, (theory_arr/q**2) * np.exp(-theory_arr**2/(2*q**2)), label=label_t)\n",
        "plt.grid()\n",
        "plt.legend()\n",
        "plt.show()\n"
      ],
      "metadata": {
        "id": "lJj3IIvPogNR"
      },
      "execution_count": null,
      "outputs": []
    },
    {
      "cell_type": "markdown",
      "source": [
        "# 1.4.2. Построение графика на по функции\n",
        "\n",
        "Сгенерировать массивы по функции (x^2 + y^2 - 1)^3 - x^2 y^3 = 0 и построить на основе них график."
      ],
      "metadata": {
        "id": "B27uzqb0_fY3"
      }
    },
    {
      "cell_type": "code",
      "source": [
        "def plus(x):\n",
        "  return 1/2 * (x**2)**(1/3) + np.sqrt(1/4 * ((x**4)**(1/3)) - x**2 + 1) \n",
        "\n",
        "def minus(x):\n",
        "  return 1/2 * (x**2)**(1/3) - np.sqrt(1/4 * ((x**4)**(1/3)) - x**2 + 1) \n"
      ],
      "metadata": {
        "id": "O7EB5A3f_eOT"
      },
      "execution_count": 240,
      "outputs": []
    },
    {
      "cell_type": "code",
      "source": [
        "range_minus = -1.5\n",
        "range_plus = 1.5\n",
        "step = 0.0001\n",
        "\n",
        "x = np.arange(range_minus, range_plus, step)\n",
        "y1 = plus(np.arange(range_minus, range_plus, step))\n",
        "y2 = minus(np.arange(range_minus, range_plus, step))\n",
        "\n",
        "plt.figure(figsize=(5, 5))\n",
        "plt.plot(x, y1, color='red')\n",
        "plt.plot(x, y2, color='red')\n",
        "plt.grid()\n",
        "plt.xlabel('x')\n",
        "plt.ylabel('y')\n",
        "plt.show()\n"
      ],
      "metadata": {
        "id": "JMu08RP4EvKQ"
      },
      "execution_count": null,
      "outputs": []
    },
    {
      "cell_type": "markdown",
      "source": [
        "# 1.4.3. Анализ зависимостей\n",
        "\n",
        "Найти зависимости представленные в датасете приложенном к заданию."
      ],
      "metadata": {
        "id": "v24DeDh6Qq9Q"
      }
    },
    {
      "cell_type": "code",
      "source": [
        "age = []\n",
        "sex = []\n",
        "bmi = []\n",
        "children = []\n",
        "smoker = []\n",
        "region = []\n",
        "charges = []\n",
        "\n",
        "with open('dataset_home.txt', mode='r') as file:\n",
        "  for human in file.readlines():\n",
        "\n",
        "    age.append(int(human.split(',')[0]))\n",
        "\n",
        "    if human.split(',')[1] == 'male':\n",
        "      sex.append(1)\n",
        "    else:\n",
        "      sex.append(0)\n",
        "\n",
        "    bmi.append(float(human.split(',')[2]))\n",
        "\n",
        "    children.append(int(human.split(',')[3]))\n",
        "\n",
        "    if human.split(',')[4] == 'yes':\n",
        "      smoker.append(1)\n",
        "    else:\n",
        "      smoker.append(0)\n",
        "\n",
        "    if human.split(',')[5] == 'northwest':\n",
        "      region.append(0)\n",
        "    elif human.split(',')[5] == 'northeast':\n",
        "      region.append(1)\n",
        "    elif human.split(',')[5] == 'southwest':\n",
        "      region.append(2)\n",
        "    elif human.split(',')[5] == 'southeast':\n",
        "      region.append(3)\n",
        "    else:\n",
        "      region.append(human.split(',')[5])\n",
        "\n",
        "    charges.append(float(human.split(',')[6]))\n",
        "\n",
        "age = np.array(age)\n",
        "sex = np.array(sex)\n",
        "bmi = np.array(bmi)\n",
        "children = np.array(children)\n",
        "smoker = np.array(smoker)\n",
        "region = np.array(region)\n",
        "charges = np.array(charges)\n"
      ],
      "metadata": {
        "id": "0MWUBvnNQ-ex"
      },
      "execution_count": 251,
      "outputs": []
    },
    {
      "cell_type": "code",
      "source": [
        "plt.figure(figsize=(7, 7))\n",
        "\n",
        "plt.scatter(age[charges < 15000  ], \n",
        "            charges[charges < 15000], \n",
        "            label=\"charges < 15000 - корреляция\")\n",
        "plt.scatter(age[(charges < 15000) & (charges > 10000) & (age < 45)], \n",
        "            charges[(charges < 15000) & (charges > 10000) & (age < 45)], \n",
        "            label=\"10000 < charges < 15000, age < 45 - выбросы\")\n",
        "\n",
        "plt.title('Корреляция, выбросы')\n",
        "plt.grid()\n",
        "plt.legend()\n",
        "plt.xlabel('age')\n",
        "plt.ylabel('charges')\n",
        "plt.show()"
      ],
      "metadata": {
        "id": "SmDiTVqHYfVr"
      },
      "execution_count": null,
      "outputs": []
    },
    {
      "cell_type": "code",
      "source": [
        "plt.figure(figsize=(7, 7))\n",
        "\n",
        "plt.scatter(bmi[(age > 35) & (age < 50)], \n",
        "            charges[(age > 35) & (age < 50)])\n",
        "\n",
        "plt.scatter(bmi[(age > 35) & (age < 50) & (charges > 18000) & (charges < 30000)], \n",
        "            charges[(age > 35) & (age < 50) & (charges > 18000)  & (charges < 30000)], \n",
        "            label=\"35 < age < 50, 18000 < charges < 29000 - кластер\")\n",
        "\n",
        "plt.scatter(bmi[(age > 35) & (age < 50) & (charges < 12000)], \n",
        "            charges[(age > 35) & (age < 50) & (charges < 12000)], \n",
        "            label=\"35 < age < 50, charges < 12000 - кластер\")\n",
        "\n",
        "plt.title('Кластеры')\n",
        "plt.grid()\n",
        "plt.legend()\n",
        "plt.xlabel('bmi')\n",
        "plt.ylabel('charges')\n",
        "plt.show()"
      ],
      "metadata": {
        "id": "2WCzxJqyTrkb"
      },
      "execution_count": null,
      "outputs": []
    },
    {
      "cell_type": "code",
      "source": [
        "plt.figure(figsize=(7, 7))\n",
        "\n",
        "plt.scatter(age[(charges < 4000) & (age < 30)], \n",
        "            charges[(charges < 4000) & (age < 30)], \n",
        "            label=\"age < 30, charges < 4000 - типичные значения\")\n",
        "\n",
        "plt.title('Типичные значения')\n",
        "plt.grid()\n",
        "plt.legend()\n",
        "plt.xlabel('age')\n",
        "plt.ylabel('charges')\n",
        "plt.show()"
      ],
      "metadata": {
        "id": "_UYMBIifehty"
      },
      "execution_count": null,
      "outputs": []
    },
    {
      "cell_type": "code",
      "source": [
        "plt.figure(figsize=(7, 7))\n",
        "\n",
        "plt.scatter(bmi[(charges > 30000) & (bmi > 25)],\n",
        "            charges[(charges > 30000) & (bmi > 25)],\n",
        "            label=\"age > 25, charges > 30000 - независимость\")\n",
        "\n",
        "plt.title('Независимость')\n",
        "plt.grid()\n",
        "plt.legend()\n",
        "plt.xlabel('age')\n",
        "plt.ylabel('charges')\n",
        "plt.show()"
      ],
      "metadata": {
        "id": "1I6LnaRZrA8g"
      },
      "execution_count": null,
      "outputs": []
    },
    {
      "cell_type": "code",
      "source": [
        "plt.figure(figsize=(7, 7))\n",
        "\n",
        "plt.scatter(age[age < 50],\n",
        "            charges[age < 50],\n",
        "            label=\"age < 50, charges > 0\")\n",
        "\n",
        "plt.scatter(age[(age > 27) & (age < 40) & (charges > 35000) & (charges < 55000)],\n",
        "            charges[(age > 27) & (age < 40) & (charges > 35000) & (charges < 55000)],\n",
        "            label=\"27 < age < 40, 3500 < charges < 55000 - зависимость\")\n",
        "\n",
        "plt.scatter(age[(age > 41) & (age < 50) & (charges > 35000) & (charges < 55000)],\n",
        "            charges[(age > 41) & (age < 50) & (charges > 35000) & (charges < 55000)],\n",
        "            label=\"41 < age < 50,3500 < charges < 55000 - зависимость\")\n",
        "\n",
        "\n",
        "plt.title('Зависимость')\n",
        "plt.grid()\n",
        "plt.legend()\n",
        "plt.xlabel('charges')\n",
        "plt.ylabel('age')\n",
        "plt.show()\n"
      ],
      "metadata": {
        "id": "Ge6LNvaRR28a"
      },
      "execution_count": null,
      "outputs": []
    }
  ]
}